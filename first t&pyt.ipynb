{
 "cells": [
  {
   "cell_type": "code",
   "execution_count": 1,
   "id": "220f555a-d9f2-418c-b8a0-d718a7248d45",
   "metadata": {},
   "outputs": [],
   "source": [
    "# TENSORFLOW\n",
    "\n",
    "import tensorflow as tf\n",
    "import numpy as np"
   ]
  },
  {
   "cell_type": "code",
   "execution_count": 62,
   "id": "5894165a-6f26-4450-9a17-29e405bb69dd",
   "metadata": {},
   "outputs": [],
   "source": [
    "a=tf.constant(15)\n",
    "b=tf.constant(20)"
   ]
  },
  {
   "cell_type": "code",
   "execution_count": 64,
   "id": "087a5d62-9129-4255-a153-cd2f18e4a8c6",
   "metadata": {},
   "outputs": [
    {
     "name": "stdout",
     "output_type": "stream",
     "text": [
      "tf.Tensor(300, shape=(), dtype=int32)\n"
     ]
    }
   ],
   "source": [
    "print(a*b)"
   ]
  },
  {
   "cell_type": "code",
   "execution_count": 66,
   "id": "5c8cfd66-f7e2-4a03-a5ac-a210d4f9905e",
   "metadata": {},
   "outputs": [],
   "source": [
    "x=np.random.rand(100).astype(np.float32)"
   ]
  },
  {
   "cell_type": "code",
   "execution_count": 68,
   "id": "b803081b-1de0-4b05-abff-40dd23035aac",
   "metadata": {},
   "outputs": [
    {
     "name": "stdout",
     "output_type": "stream",
     "text": [
      "[0.32424217 0.67685324 0.08497392 0.43822378 0.96705097 0.5052016\n",
      " 0.3194278  0.6429024  0.6723605  0.5448016  0.64792156 0.10722195\n",
      " 0.6915311  0.9100323  0.35145402 0.21356367 0.84381294 0.7669899\n",
      " 0.8368033  0.82238287 0.751457   0.34242225 0.73969674 0.7323974\n",
      " 0.24570394 0.33463582 0.7653292  0.4187664  0.14153601 0.77413476\n",
      " 0.3353405  0.01438131 0.92708665 0.46406657 0.5340173  0.77186406\n",
      " 0.73846084 0.73420155 0.42110372 0.72510535 0.4267371  0.11721191\n",
      " 0.52393377 0.36089677 0.2893176  0.03929205 0.05841864 0.5439215\n",
      " 0.80009365 0.9748147  0.02446825 0.28597492 0.28660902 0.36515927\n",
      " 0.21260862 0.51779264 0.38378835 0.9811827  0.24634622 0.4115426\n",
      " 0.30477226 0.79666567 0.48824722 0.70328474 0.40302044 0.7310337\n",
      " 0.6614046  0.63928473 0.8914148  0.32294935 0.4605994  0.87638307\n",
      " 0.4053896  0.3866805  0.35985395 0.58609486 0.84102875 0.5526312\n",
      " 0.39870155 0.18206395 0.3958607  0.01102979 0.9317731  0.42288777\n",
      " 0.13350318 0.57965255 0.27459952 0.5751406  0.5167251  0.5224693\n",
      " 0.68152344 0.43798143 0.01532364 0.3981585  0.70886785 0.9496122\n",
      " 0.43223563 0.640999   0.11493355 0.9393355 ]\n"
     ]
    }
   ],
   "source": [
    "print(x)"
   ]
  },
  {
   "cell_type": "code",
   "execution_count": 70,
   "id": "f3025ff7-ccbd-44ee-9293-e7db18a9fdf1",
   "metadata": {},
   "outputs": [],
   "source": [
    "y=0.2*x+0.2"
   ]
  },
  {
   "cell_type": "code",
   "execution_count": 72,
   "id": "0997b9cc-0ccb-4e74-9ab3-c90e975f3a41",
   "metadata": {},
   "outputs": [],
   "source": [
    "W=tf.Variable(tf.random.normal([1]))"
   ]
  },
  {
   "cell_type": "code",
   "execution_count": 74,
   "id": "fc82fa47-6d5c-41f9-8b83-12f866932e7e",
   "metadata": {},
   "outputs": [],
   "source": [
    "b=tf.Variable(tf.zeros([1]))"
   ]
  },
  {
   "cell_type": "code",
   "execution_count": 76,
   "id": "6c75d030-2867-412a-a8a4-8570280aa69c",
   "metadata": {},
   "outputs": [],
   "source": [
    "def mse_loss():\n",
    "    # Ensure all variables are float tensors\n",
    "    y_pred = W * tf.cast(x, tf.float32) + b\n",
    "    loss = tf.reduce_mean(tf.square(y_pred - tf.cast(y, tf.float32)))\n",
    "    return loss\n"
   ]
  },
  {
   "cell_type": "code",
   "execution_count": 78,
   "id": "5f33c5dc-6159-4aea-938f-f5bdaf4ec630",
   "metadata": {},
   "outputs": [],
   "source": [
    "optimizer=tf.optimizers.Adam()"
   ]
  },
  {
   "cell_type": "code",
   "execution_count": 80,
   "id": "591481db-dd2b-4d16-b538-e118fcc31ea3",
   "metadata": {},
   "outputs": [
    {
     "name": "stdout",
     "output_type": "stream",
     "text": [
      "0 [0.061434] [0.00099999]\n",
      "500 [0.23069488] [0.18249077]\n",
      "1000 [0.21708418] [0.19053468]\n",
      "1500 [0.20696567] [0.19614078]\n",
      "2000 [0.20199902] [0.1988925]\n",
      "2500 [0.20037167] [0.19979408]\n",
      "3000 [0.2000398] [0.19997796]\n",
      "3500 [0.20000234] [0.19999872]\n",
      "4000 [0.20000112] [0.19999936]\n",
      "4500 [0.20000084] [0.19999953]\n"
     ]
    }
   ],
   "source": [
    "for step in range(5000):\n",
    "    with tf.GradientTape() as tape:\n",
    "        # Compute the loss within the gradient tape context\n",
    "        loss = mse_loss()\n",
    "\n",
    "    # Calculate gradients with respect to W and b\n",
    "    gradients = tape.gradient(loss, [W, b])\n",
    "    \n",
    "    # Apply gradients to update W and b\n",
    "    optimizer.apply_gradients(zip(gradients, [W, b]))\n",
    "    \n",
    "    # Print progress every 500 steps\n",
    "    if step % 500 == 0:\n",
    "        print(step, W.numpy(), b.numpy())"
   ]
  },
  {
   "cell_type": "code",
   "execution_count": null,
   "id": "1e5fe926-c086-4077-abee-0b5e4fd2beb2",
   "metadata": {},
   "outputs": [],
   "source": [
    " "
   ]
  },
  {
   "cell_type": "code",
   "execution_count": 81,
   "id": "f6e5c316-f98c-4213-be6c-a658b573036d",
   "metadata": {},
   "outputs": [],
   "source": [
    "# PYTORCH\n",
    "\n",
    "\n",
    "import torch\n",
    "import numpy as np"
   ]
  },
  {
   "cell_type": "code",
   "execution_count": 84,
   "id": "2a884e74-09d5-4521-b2b8-e71e4fc2e965",
   "metadata": {},
   "outputs": [
    {
     "name": "stdout",
     "output_type": "stream",
     "text": [
      "<class 'torch.Tensor'>\n"
     ]
    }
   ],
   "source": [
    "data = [\n",
    "[1,2],\n",
    "[3,4]\n",
    "]\n",
    "x_data = torch.tensor(data)\n",
    "print(type(x_data))"
   ]
  },
  {
   "cell_type": "code",
   "execution_count": 86,
   "id": "5cf9a7ad-6a81-4b1e-ab19-061a0d31eb70",
   "metadata": {},
   "outputs": [],
   "source": [
    "np_array = np.array(data)\n",
    "x_np = torch.from_numpy(np_array)"
   ]
  },
  {
   "cell_type": "code",
   "execution_count": 88,
   "id": "3c34fa69-07ec-464b-b206-71a878ee188c",
   "metadata": {},
   "outputs": [
    {
     "name": "stdout",
     "output_type": "stream",
     "text": [
      "tensor([[1, 2],\n",
      "        [3, 4]], dtype=torch.int32)\n"
     ]
    }
   ],
   "source": [
    "print(x_np)"
   ]
  },
  {
   "cell_type": "code",
   "execution_count": 90,
   "id": "5b041474-120c-414e-8176-5f6f2a62fd98",
   "metadata": {},
   "outputs": [
    {
     "name": "stdout",
     "output_type": "stream",
     "text": [
      "<class 'torch.Tensor'>\n"
     ]
    }
   ],
   "source": [
    "print(type(x_np))"
   ]
  },
  {
   "cell_type": "code",
   "execution_count": 92,
   "id": "3707cfca-caa3-45be-aa98-0af358019db8",
   "metadata": {},
   "outputs": [
    {
     "name": "stdout",
     "output_type": "stream",
     "text": [
      "One Tensor: \n",
      " tensor([[1, 1],\n",
      "        [1, 1]])\n"
     ]
    }
   ],
   "source": [
    "x_ones = torch.ones_like(x_data)\n",
    "print(\"One Tensor: \\n\",x_ones)"
   ]
  },
  {
   "cell_type": "code",
   "execution_count": 94,
   "id": "74cb5ebd-284c-4072-b441-49d8bb0f49e2",
   "metadata": {},
   "outputs": [
    {
     "name": "stdout",
     "output_type": "stream",
     "text": [
      "tensor([[0.7829, 0.9927],\n",
      "        [0.9144, 0.3911]])\n"
     ]
    }
   ],
   "source": [
    "x_rand = torch.rand_like(x_data,dtype=torch.float)\n",
    "print(x_rand)"
   ]
  },
  {
   "cell_type": "code",
   "execution_count": 96,
   "id": "d3b9b23a-62e7-4426-aa9d-d3134e05813d",
   "metadata": {},
   "outputs": [
    {
     "name": "stdout",
     "output_type": "stream",
     "text": [
      "tensor([[0.2952, 0.0453, 0.0787],\n",
      "        [0.2169, 0.3242, 0.2623]])\n",
      "<class 'torch.Tensor'>\n"
     ]
    }
   ],
   "source": [
    "shape = (2,3)\n",
    "random_tensor = torch.rand(shape)\n",
    "print(random_tensor)\n",
    "print(type(random_tensor))"
   ]
  },
  {
   "cell_type": "code",
   "execution_count": 98,
   "id": "abfc3b6f-76f5-4751-a50a-9f2b761856be",
   "metadata": {},
   "outputs": [
    {
     "name": "stdout",
     "output_type": "stream",
     "text": [
      "tensor([[1., 1., 1.],\n",
      "        [1., 1., 1.]])\n",
      "<class 'torch.Tensor'>\n"
     ]
    }
   ],
   "source": [
    "ones_tensor = torch.ones(shape)\n",
    "print(ones_tensor)\n",
    "print(type(ones_tensor))"
   ]
  },
  {
   "cell_type": "code",
   "execution_count": 100,
   "id": "9e10bfff-f097-4633-bdd7-cc77bea6db4c",
   "metadata": {},
   "outputs": [
    {
     "name": "stdout",
     "output_type": "stream",
     "text": [
      "tensor([[0., 0., 0.],\n",
      "        [0., 0., 0.]])\n",
      "<class 'torch.Tensor'>\n"
     ]
    }
   ],
   "source": [
    "zeros_tensor = torch.zeros(shape)\n",
    "print(zeros_tensor)\n",
    "print(type(zeros_tensor))"
   ]
  },
  {
   "cell_type": "code",
   "execution_count": 110,
   "id": "fd34617b-1aa8-4b45-a17e-0f0d7f4ea8cd",
   "metadata": {},
   "outputs": [
    {
     "name": "stdout",
     "output_type": "stream",
     "text": [
      "tensor([[0.4978, 0.9581, 0.8121, 0.1011],\n",
      "        [0.2384, 0.6527, 0.1379, 0.4835],\n",
      "        [0.2518, 0.4634, 0.8754, 0.5226]])\n"
     ]
    },
    {
     "data": {
      "text/plain": [
       "device(type='cpu')"
      ]
     },
     "execution_count": 110,
     "metadata": {},
     "output_type": "execute_result"
    }
   ],
   "source": [
    "tensor = torch.rand(3,4)\n",
    "print(tensor)\n",
    "tensor.shape\n",
    "tensor.dtype\n",
    "tensor.device"
   ]
  },
  {
   "cell_type": "code",
   "execution_count": 128,
   "id": "9b5ec196-e76b-4a0c-9d40-2350467a6a80",
   "metadata": {},
   "outputs": [
    {
     "name": "stdout",
     "output_type": "stream",
     "text": [
      "tensor([[1., 1., 1., 1.],\n",
      "        [1., 1., 1., 1.],\n",
      "        [1., 1., 1., 1.],\n",
      "        [1., 1., 1., 1.]])\n"
     ]
    }
   ],
   "source": [
    "tensor = torch.ones(4,4)\n",
    "print(tensor)"
   ]
  },
  {
   "cell_type": "code",
   "execution_count": 130,
   "id": "7ef4ef08-ee3b-494c-93a1-3081e9c530b8",
   "metadata": {},
   "outputs": [
    {
     "name": "stdout",
     "output_type": "stream",
     "text": [
      "tensor([[0., 0., 0., 0.],\n",
      "        [0., 0., 0., 0.],\n",
      "        [0., 0., 0., 0.],\n",
      "        [0., 0., 0., 0.]])\n"
     ]
    }
   ],
   "source": [
    "tensor1 = torch.zeros(4,4)\n",
    "print(tensor1)"
   ]
  },
  {
   "cell_type": "code",
   "execution_count": 132,
   "id": "84c8abf2-132e-4dd2-aa42-9bc1863bc5a7",
   "metadata": {},
   "outputs": [
    {
     "name": "stdout",
     "output_type": "stream",
     "text": [
      "tensor([[1., 1., 1., 1.],\n",
      "        [1., 1., 1., 1.],\n",
      "        [1., 1., 1., 1.],\n",
      "        [1., 1., 1., 1.],\n",
      "        [0., 0., 0., 0.],\n",
      "        [0., 0., 0., 0.],\n",
      "        [0., 0., 0., 0.],\n",
      "        [0., 0., 0., 0.]])\n"
     ]
    }
   ],
   "source": [
    "tensor2 = torch.cat([tensor,tensor1])\n",
    "print(tensor2)"
   ]
  },
  {
   "cell_type": "code",
   "execution_count": 120,
   "id": "2724c98f-a413-49dc-b248-c7572758365f",
   "metadata": {},
   "outputs": [
    {
     "data": {
      "text/plain": [
       "tensor([[1., 1., 1., 1.],\n",
       "        [1., 1., 1., 1.],\n",
       "        [1., 1., 1., 1.],\n",
       "        [1., 1., 1., 1.]])"
      ]
     },
     "execution_count": 120,
     "metadata": {},
     "output_type": "execute_result"
    }
   ],
   "source": [
    "tensor.mul(tensor1)\n",
    "tensor * tensor1\n",
    "tensor.T"
   ]
  },
  {
   "cell_type": "code",
   "execution_count": 122,
   "id": "8e2cde5f-4ef1-4c36-ba3a-a2caefee84d8",
   "metadata": {},
   "outputs": [
    {
     "name": "stdout",
     "output_type": "stream",
     "text": [
      "tensor([[4., 4., 4., 4.],\n",
      "        [4., 4., 4., 4.],\n",
      "        [4., 4., 4., 4.],\n",
      "        [4., 4., 4., 4.]])\n"
     ]
    }
   ],
   "source": [
    "tensor.add_(3)\n",
    "print(tensor)"
   ]
  },
  {
   "cell_type": "code",
   "execution_count": 124,
   "id": "836dcff9-d5a4-4bbd-afd9-0274a386ce70",
   "metadata": {},
   "outputs": [
    {
     "name": "stdout",
     "output_type": "stream",
     "text": [
      "tensor([1., 1., 1., 1., 1.])\n"
     ]
    }
   ],
   "source": [
    "t = torch.ones(5)\n",
    "print(t)"
   ]
  },
  {
   "cell_type": "code",
   "execution_count": 126,
   "id": "e4bed300-255d-41ea-ba49-bc44fd9fa12c",
   "metadata": {},
   "outputs": [
    {
     "name": "stdout",
     "output_type": "stream",
     "text": [
      "[1. 1. 1. 1. 1.]\n",
      "<class 'numpy.ndarray'>\n"
     ]
    }
   ],
   "source": [
    "n = t.numpy()\n",
    "print(n)\n",
    "print(type(n))"
   ]
  },
  {
   "cell_type": "code",
   "execution_count": null,
   "id": "66a81a28-eeae-4936-8a95-f1e7a666b92a",
   "metadata": {},
   "outputs": [],
   "source": []
  }
 ],
 "metadata": {
  "kernelspec": {
   "display_name": "Python 3 (ipykernel)",
   "language": "python",
   "name": "python3"
  },
  "language_info": {
   "codemirror_mode": {
    "name": "ipython",
    "version": 3
   },
   "file_extension": ".py",
   "mimetype": "text/x-python",
   "name": "python",
   "nbconvert_exporter": "python",
   "pygments_lexer": "ipython3",
   "version": "3.12.4"
  }
 },
 "nbformat": 4,
 "nbformat_minor": 5
}
