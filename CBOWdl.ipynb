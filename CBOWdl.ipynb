{
 "cells": [
  {
   "cell_type": "code",
   "execution_count": 1,
   "id": "55db8d4e",
   "metadata": {},
   "outputs": [],
   "source": [
    "import torch\n",
    "from torch.utils.data import Dataset, DataLoader\n",
    "from collections import Counter\n",
    "import torch.nn as nn\n"
   ]
  },
  {
   "cell_type": "code",
   "execution_count": 2,
   "id": "47a78026",
   "metadata": {},
   "outputs": [],
   "source": [
    "# Sample corpus (expanded)\n",
    "corpus = [\n",
    "    \"It is a pleasant day\",\n",
    "    \"It is a sunny day\",\n",
    "    \"The weather is nice today\",\n",
    "    \"I love sunny days\",\n",
    "    \"What a beautiful day\",\n",
    "    \"The day is bright and sunny\",\n",
    "    \"Today is a wonderful day\",\n",
    "    \"I enjoy beautiful weather\",\n",
    "    \"Sunny weather makes me happy\",\n",
    "    \"I like pleasant days\",\n",
    "    \"A sunny day brings joy\",\n",
    "    \"What a nice day it is\",\n",
    "    \"Sunny days are beautiful\"\n",
    "]"
   ]
  },
  {
   "cell_type": "code",
   "execution_count": 3,
   "id": "9a07f21b",
   "metadata": {},
   "outputs": [],
   "source": [
    "# Preprocessing function\n",
    "def preprocess(corpus):\n",
    "    words = []\n",
    "    for sentence in corpus:\n",
    "        words += sentence.lower().split()\n",
    "    return words\n",
    "\n",
    "words = preprocess(corpus)\n",
    "word_count = Counter(words)\n",
    "vocab = sorted(word_count.keys())\n",
    "word_to_index = {word: i for i, word in enumerate(vocab)}"
   ]
  },
  {
   "cell_type": "code",
   "execution_count": 4,
   "id": "de5bed97",
   "metadata": {},
   "outputs": [],
   "source": [
    "\n",
    "# Hyperparameters\n",
    "context_size = 2  # Number of context words\n",
    "embedding_dim = 20  # Increased dimension\n",
    "hidden_dim = 50    # Added hidden layer dimension"
   ]
  },
  {
   "cell_type": "code",
   "execution_count": 5,
   "id": "6affbd02",
   "metadata": {},
   "outputs": [],
   "source": [
    "# Dataset class\n",
    "class CBOWDataset(Dataset):\n",
    "    def __init__(self, text, context_size):\n",
    "        self.data = []\n",
    "        self.word_to_index = word_to_index\n",
    "        self.index_to_word = {i: word for i, word in enumerate(vocab)}\n",
    "        self.build_dataset(text, context_size)\n",
    "\n",
    "    def build_dataset(self, text, context_size):\n",
    "        for sentence in text:\n",
    "            words = sentence.lower().split()\n",
    "            for i, target_word in enumerate(words):\n",
    "                context_words = []\n",
    "                for j in range(-context_size, context_size + 1):\n",
    "                    if j != 0 and 0 <= i + j < len(words):\n",
    "                        context_words.append(words[i + j])\n",
    "                if len(context_words) == context_size * 2:\n",
    "                    self.data.append((context_words, target_word))\n",
    "\n",
    "    def __len__(self):\n",
    "        return len(self.data)\n",
    "\n",
    "    def __getitem__(self, idx):\n",
    "        context_words, target_word = self.data[idx]\n",
    "        context_indices = torch.tensor([self.word_to_index[w] for w in context_words], dtype=torch.long)\n",
    "        target_index = torch.tensor(self.word_to_index[target_word], dtype=torch.long)\n",
    "        return context_indices, target_index"
   ]
  },
  {
   "cell_type": "code",
   "execution_count": 6,
   "id": "9d0d2186",
   "metadata": {},
   "outputs": [],
   "source": [
    "\n",
    "# Create the dataset and data loader\n",
    "dataset = CBOWDataset(corpus, context_size)\n",
    "dataloader = DataLoader(dataset, batch_size=2, shuffle=True)"
   ]
  },
  {
   "cell_type": "code",
   "execution_count": 7,
   "id": "1cbc9971",
   "metadata": {},
   "outputs": [],
   "source": [
    "# CBOW model class with an additional hidden layer\n",
    "class CBOW(nn.Module):\n",
    "    def __init__(self, vocab_size, embedding_dim, hidden_dim):\n",
    "        super(CBOW, self).__init__()\n",
    "        self.embeddings = nn.Embedding(vocab_size, embedding_dim)\n",
    "        self.linear1 = nn.Linear(embedding_dim, hidden_dim)\n",
    "        self.linear2 = nn.Linear(hidden_dim, vocab_size)\n",
    "\n",
    "    def forward(self, context):\n",
    "        embeds = self.embeddings(context)\n",
    "        averaged_embeds = embeds.mean(dim=1)\n",
    "        hidden = torch.relu(self.linear1(averaged_embeds))\n",
    "        output = self.linear2(hidden)\n",
    "        return output"
   ]
  },
  {
   "cell_type": "code",
   "execution_count": 8,
   "id": "8a5c826e",
   "metadata": {},
   "outputs": [],
   "source": [
    "\n",
    "# Initialize model, loss function, and optimizer\n",
    "model = CBOW(len(vocab), embedding_dim, hidden_dim)\n",
    "loss_function = nn.CrossEntropyLoss()\n",
    "optimizer = torch.optim.Adam(model.parameters(), lr=0.01)"
   ]
  },
  {
   "cell_type": "code",
   "execution_count": 9,
   "id": "8b5514e1",
   "metadata": {},
   "outputs": [
    {
     "name": "stdout",
     "output_type": "stream",
     "text": [
      "Epoch 0, Loss: 15.5630\n",
      "Epoch 20, Loss: 0.0291\n",
      "Epoch 40, Loss: 0.0086\n",
      "Epoch 60, Loss: 0.0042\n",
      "Epoch 80, Loss: 0.0026\n",
      "Epoch 100, Loss: 0.0017\n",
      "Epoch 120, Loss: 0.0012\n",
      "Epoch 140, Loss: 0.0009\n",
      "Epoch 160, Loss: 0.0007\n",
      "Epoch 180, Loss: 0.0006\n"
     ]
    }
   ],
   "source": [
    "\n",
    "# Training loop\n",
    "num_epochs = 200  # Increased epochs\n",
    "for epoch in range(num_epochs):\n",
    "    total_loss = 0\n",
    "    for context, target in dataloader:\n",
    "        optimizer.zero_grad()\n",
    "        output = model(context)\n",
    "        loss = loss_function(output, target)\n",
    "        loss.backward()\n",
    "        optimizer.step()\n",
    "        total_loss += loss.item()\n",
    "    if epoch % 20 == 0:\n",
    "        print(f'Epoch {epoch}, Loss: {total_loss:.4f}')"
   ]
  },
  {
   "cell_type": "code",
   "execution_count": 10,
   "id": "d67d738d",
   "metadata": {},
   "outputs": [],
   "source": [
    "\n",
    "# Prediction function\n",
    "def predict_word(model, context_words, word_to_index):\n",
    "    context_indices = torch.tensor([word_to_index[word] for word in context_words], dtype=torch.long).unsqueeze(0)\n",
    "    with torch.no_grad():\n",
    "        output = model(context_indices)\n",
    "        predicted_index = output.argmax(dim=1).item()\n",
    "    return dataset.index_to_word[predicted_index]"
   ]
  },
  {
   "cell_type": "code",
   "execution_count": 11,
   "id": "791c4134",
   "metadata": {},
   "outputs": [
    {
     "name": "stdout",
     "output_type": "stream",
     "text": [
      "Predicted word: day\n"
     ]
    }
   ],
   "source": [
    "\n",
    "# Example context to predict the target word\n",
    "context = ['it', 'is', 'a', 'pleasant']  # Adjusted context\n",
    "predicted_word = predict_word(model, context, word_to_index)\n",
    "print(f'Predicted word: {predicted_word}')"
   ]
  },
  {
   "cell_type": "code",
   "execution_count": null,
   "id": "e706a83d",
   "metadata": {},
   "outputs": [],
   "source": []
  }
 ],
 "metadata": {
  "kernelspec": {
   "display_name": "Python 3 (ipykernel)",
   "language": "python",
   "name": "python3"
  },
  "language_info": {
   "codemirror_mode": {
    "name": "ipython",
    "version": 3
   },
   "file_extension": ".py",
   "mimetype": "text/x-python",
   "name": "python",
   "nbconvert_exporter": "python",
   "pygments_lexer": "ipython3",
   "version": "3.11.5"
  }
 },
 "nbformat": 4,
 "nbformat_minor": 5
}
